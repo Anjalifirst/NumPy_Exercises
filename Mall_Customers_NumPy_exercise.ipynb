{
 "cells": [
  {
   "cell_type": "markdown",
   "id": "84420fc8-4b64-4d98-b31d-8fb5cccfdbe3",
   "metadata": {},
   "source": [
    "## Business Scenario\n",
    "\n",
    "MallCo, a bustling shopping hub, has noticed a decline in customer retention despite steady footfall\n",
    " To address this, the management team wants to unlock actionable insights from their customer data to improve loyalty programs, and identify high-value customers\n",
    ".\n",
    "The dataset includes the following information about 200 customers:\n",
    "CustomerID: Unique identifier for each customer.\n",
    "Gender: Male (0) or Female (1).\n",
    "Age: Customer's age in years.\n",
    "Annual Income (k$): Annual income in thousands of dollars.\n",
    "Spending Score (1-100): A score that indicates spending habits and mall enga\n",
    "gement.\n",
    "Your role is to analyze the data, answer critical business questions, and recommend strategies for improving customer retention.\n"
   ]
  },
  {
   "cell_type": "code",
   "execution_count": 2,
   "id": "2c8fd5ac",
   "metadata": {},
   "outputs": [],
   "source": [
    "import numpy as np"
   ]
  },
  {
   "cell_type": "markdown",
   "id": "c1f0b101-fa5d-4ad1-8532-89e28b834d5d",
   "metadata": {},
   "source": [
    "## 1. Loading the dataset\n"
   ]
  },
  {
   "cell_type": "code",
   "execution_count": 3,
   "id": "a8664320-eead-423f-b531-9f9715a3177f",
   "metadata": {},
   "outputs": [
    {
     "data": {
      "text/plain": [
       "array([[  1.,  nan,  19.,  15.,  39.],\n",
       "       [  2.,  nan,  21.,  15.,  81.],\n",
       "       [  3.,  nan,  20.,  16.,   6.],\n",
       "       [  4.,  nan,  23.,  16.,  77.],\n",
       "       [  5.,  nan,  31.,  17.,  40.],\n",
       "       [  6.,  nan,  22.,  17.,  76.],\n",
       "       [  7.,  nan,  35.,  18.,   6.],\n",
       "       [  8.,  nan,  23.,  18.,  94.],\n",
       "       [  9.,  nan,  64.,  19.,   3.],\n",
       "       [ 10.,  nan,  30.,  19.,  72.],\n",
       "       [ 11.,  nan,  67.,  19.,  14.],\n",
       "       [ 12.,  nan,  35.,  19.,  99.],\n",
       "       [ 13.,  nan,  58.,  20.,  15.],\n",
       "       [ 14.,  nan,  24.,  20.,  77.],\n",
       "       [ 15.,  nan,  37.,  20.,  13.],\n",
       "       [ 16.,  nan,  22.,  20.,  79.],\n",
       "       [ 17.,  nan,  35.,  21.,  35.],\n",
       "       [ 18.,  nan,  20.,  21.,  66.],\n",
       "       [ 19.,  nan,  52.,  23.,  29.],\n",
       "       [ 20.,  nan,  35.,  23.,  98.],\n",
       "       [ 21.,  nan,  35.,  24.,  35.],\n",
       "       [ 22.,  nan,  25.,  24.,  73.],\n",
       "       [ 23.,  nan,  46.,  25.,   5.],\n",
       "       [ 24.,  nan,  31.,  25.,  73.],\n",
       "       [ 25.,  nan,  54.,  28.,  14.],\n",
       "       [ 26.,  nan,  29.,  28.,  82.],\n",
       "       [ 27.,  nan,  45.,  28.,  32.],\n",
       "       [ 28.,  nan,  35.,  28.,  61.],\n",
       "       [ 29.,  nan,  40.,  29.,  31.],\n",
       "       [ 30.,  nan,  23.,  29.,  87.],\n",
       "       [ 31.,  nan,  60.,  30.,   4.],\n",
       "       [ 32.,  nan,  21.,  30.,  73.],\n",
       "       [ 33.,  nan,  53.,  33.,   4.],\n",
       "       [ 34.,  nan,  18.,  33.,  92.],\n",
       "       [ 35.,  nan,  49.,  33.,  14.],\n",
       "       [ 36.,  nan,  21.,  33.,  81.],\n",
       "       [ 37.,  nan,  42.,  34.,  17.],\n",
       "       [ 38.,  nan,  30.,  34.,  73.],\n",
       "       [ 39.,  nan,  36.,  37.,  26.],\n",
       "       [ 40.,  nan,  20.,  37.,  75.],\n",
       "       [ 41.,  nan,  65.,  38.,  35.],\n",
       "       [ 42.,  nan,  24.,  38.,  92.],\n",
       "       [ 43.,  nan,  48.,  39.,  36.],\n",
       "       [ 44.,  nan,  31.,  39.,  61.],\n",
       "       [ 45.,  nan,  49.,  39.,  28.],\n",
       "       [ 46.,  nan,  24.,  39.,  65.],\n",
       "       [ 47.,  nan,  50.,  40.,  55.],\n",
       "       [ 48.,  nan,  27.,  40.,  47.],\n",
       "       [ 49.,  nan,  29.,  40.,  42.],\n",
       "       [ 50.,  nan,  31.,  40.,  42.],\n",
       "       [ 51.,  nan,  49.,  42.,  52.],\n",
       "       [ 52.,  nan,  33.,  42.,  60.],\n",
       "       [ 53.,  nan,  31.,  43.,  54.],\n",
       "       [ 54.,  nan,  59.,  43.,  60.],\n",
       "       [ 55.,  nan,  50.,  43.,  45.],\n",
       "       [ 56.,  nan,  47.,  43.,  41.],\n",
       "       [ 57.,  nan,  51.,  44.,  50.],\n",
       "       [ 58.,  nan,  69.,  44.,  46.],\n",
       "       [ 59.,  nan,  27.,  46.,  51.],\n",
       "       [ 60.,  nan,  53.,  46.,  46.],\n",
       "       [ 61.,  nan,  70.,  46.,  56.],\n",
       "       [ 62.,  nan,  19.,  46.,  55.],\n",
       "       [ 63.,  nan,  67.,  47.,  52.],\n",
       "       [ 64.,  nan,  54.,  47.,  59.],\n",
       "       [ 65.,  nan,  63.,  48.,  51.],\n",
       "       [ 66.,  nan,  18.,  48.,  59.],\n",
       "       [ 67.,  nan,  43.,  48.,  50.],\n",
       "       [ 68.,  nan,  68.,  48.,  48.],\n",
       "       [ 69.,  nan,  19.,  48.,  59.],\n",
       "       [ 70.,  nan,  32.,  48.,  47.],\n",
       "       [ 71.,  nan,  70.,  49.,  55.],\n",
       "       [ 72.,  nan,  47.,  49.,  42.],\n",
       "       [ 73.,  nan,  60.,  50.,  49.],\n",
       "       [ 74.,  nan,  60.,  50.,  56.],\n",
       "       [ 75.,  nan,  59.,  54.,  47.],\n",
       "       [ 76.,  nan,  26.,  54.,  54.],\n",
       "       [ 77.,  nan,  45.,  54.,  53.],\n",
       "       [ 78.,  nan,  40.,  54.,  48.],\n",
       "       [ 79.,  nan,  23.,  54.,  52.],\n",
       "       [ 80.,  nan,  49.,  54.,  42.],\n",
       "       [ 81.,  nan,  57.,  54.,  51.],\n",
       "       [ 82.,  nan,  38.,  54.,  55.],\n",
       "       [ 83.,  nan,  67.,  54.,  41.],\n",
       "       [ 84.,  nan,  46.,  54.,  44.],\n",
       "       [ 85.,  nan,  21.,  54.,  57.],\n",
       "       [ 86.,  nan,  48.,  54.,  46.],\n",
       "       [ 87.,  nan,  55.,  57.,  58.],\n",
       "       [ 88.,  nan,  22.,  57.,  55.],\n",
       "       [ 89.,  nan,  34.,  58.,  60.],\n",
       "       [ 90.,  nan,  50.,  58.,  46.],\n",
       "       [ 91.,  nan,  68.,  59.,  55.],\n",
       "       [ 92.,  nan,  18.,  59.,  41.],\n",
       "       [ 93.,  nan,  48.,  60.,  49.],\n",
       "       [ 94.,  nan,  40.,  60.,  40.],\n",
       "       [ 95.,  nan,  32.,  60.,  42.],\n",
       "       [ 96.,  nan,  24.,  60.,  52.],\n",
       "       [ 97.,  nan,  47.,  60.,  47.],\n",
       "       [ 98.,  nan,  27.,  60.,  50.],\n",
       "       [ 99.,  nan,  48.,  61.,  42.],\n",
       "       [100.,  nan,  20.,  61.,  49.],\n",
       "       [101.,  nan,  23.,  62.,  41.],\n",
       "       [102.,  nan,  49.,  62.,  48.],\n",
       "       [103.,  nan,  67.,  62.,  59.],\n",
       "       [104.,  nan,  26.,  62.,  55.],\n",
       "       [105.,  nan,  49.,  62.,  56.],\n",
       "       [106.,  nan,  21.,  62.,  42.],\n",
       "       [107.,  nan,  66.,  63.,  50.],\n",
       "       [108.,  nan,  54.,  63.,  46.],\n",
       "       [109.,  nan,  68.,  63.,  43.],\n",
       "       [110.,  nan,  66.,  63.,  48.],\n",
       "       [111.,  nan,  65.,  63.,  52.],\n",
       "       [112.,  nan,  19.,  63.,  54.],\n",
       "       [113.,  nan,  38.,  64.,  42.],\n",
       "       [114.,  nan,  19.,  64.,  46.],\n",
       "       [115.,  nan,  18.,  65.,  48.],\n",
       "       [116.,  nan,  19.,  65.,  50.],\n",
       "       [117.,  nan,  63.,  65.,  43.],\n",
       "       [118.,  nan,  49.,  65.,  59.],\n",
       "       [119.,  nan,  51.,  67.,  43.],\n",
       "       [120.,  nan,  50.,  67.,  57.],\n",
       "       [121.,  nan,  27.,  67.,  56.],\n",
       "       [122.,  nan,  38.,  67.,  40.],\n",
       "       [123.,  nan,  40.,  69.,  58.],\n",
       "       [124.,  nan,  39.,  69.,  91.],\n",
       "       [125.,  nan,  23.,  70.,  29.],\n",
       "       [126.,  nan,  31.,  70.,  77.],\n",
       "       [127.,  nan,  43.,  71.,  35.],\n",
       "       [128.,  nan,  40.,  71.,  95.],\n",
       "       [129.,  nan,  59.,  71.,  11.],\n",
       "       [130.,  nan,  38.,  71.,  75.],\n",
       "       [131.,  nan,  47.,  71.,   9.],\n",
       "       [132.,  nan,  39.,  71.,  75.],\n",
       "       [133.,  nan,  25.,  72.,  34.],\n",
       "       [134.,  nan,  31.,  72.,  71.],\n",
       "       [135.,  nan,  20.,  73.,   5.],\n",
       "       [136.,  nan,  29.,  73.,  88.],\n",
       "       [137.,  nan,  44.,  73.,   7.],\n",
       "       [138.,  nan,  32.,  73.,  73.],\n",
       "       [139.,  nan,  19.,  74.,  10.],\n",
       "       [140.,  nan,  35.,  74.,  72.],\n",
       "       [141.,  nan,  57.,  75.,   5.],\n",
       "       [142.,  nan,  32.,  75.,  93.],\n",
       "       [143.,  nan,  28.,  76.,  40.],\n",
       "       [144.,  nan,  32.,  76.,  87.],\n",
       "       [145.,  nan,  25.,  77.,  12.],\n",
       "       [146.,  nan,  28.,  77.,  97.],\n",
       "       [147.,  nan,  48.,  77.,  36.],\n",
       "       [148.,  nan,  32.,  77.,  74.],\n",
       "       [149.,  nan,  34.,  78.,  22.],\n",
       "       [150.,  nan,  34.,  78.,  90.],\n",
       "       [151.,  nan,  43.,  78.,  17.],\n",
       "       [152.,  nan,  39.,  78.,  88.],\n",
       "       [153.,  nan,  44.,  78.,  20.],\n",
       "       [154.,  nan,  38.,  78.,  76.],\n",
       "       [155.,  nan,  47.,  78.,  16.],\n",
       "       [156.,  nan,  27.,  78.,  89.],\n",
       "       [157.,  nan,  37.,  78.,   1.],\n",
       "       [158.,  nan,  30.,  78.,  78.],\n",
       "       [159.,  nan,  34.,  78.,   1.],\n",
       "       [160.,  nan,  30.,  78.,  73.],\n",
       "       [161.,  nan,  56.,  79.,  35.],\n",
       "       [162.,  nan,  29.,  79.,  83.],\n",
       "       [163.,  nan,  19.,  81.,   5.],\n",
       "       [164.,  nan,  31.,  81.,  93.],\n",
       "       [165.,  nan,  50.,  85.,  26.],\n",
       "       [166.,  nan,  36.,  85.,  75.],\n",
       "       [167.,  nan,  42.,  86.,  20.],\n",
       "       [168.,  nan,  33.,  86.,  95.],\n",
       "       [169.,  nan,  36.,  87.,  27.],\n",
       "       [170.,  nan,  32.,  87.,  63.],\n",
       "       [171.,  nan,  40.,  87.,  13.],\n",
       "       [172.,  nan,  28.,  87.,  75.],\n",
       "       [173.,  nan,  36.,  87.,  10.],\n",
       "       [174.,  nan,  36.,  87.,  92.],\n",
       "       [175.,  nan,  52.,  88.,  13.],\n",
       "       [176.,  nan,  30.,  88.,  86.],\n",
       "       [177.,  nan,  58.,  88.,  15.],\n",
       "       [178.,  nan,  27.,  88.,  69.],\n",
       "       [179.,  nan,  59.,  93.,  14.],\n",
       "       [180.,  nan,  35.,  93.,  90.],\n",
       "       [181.,  nan,  37.,  97.,  32.],\n",
       "       [182.,  nan,  32.,  97.,  86.],\n",
       "       [183.,  nan,  46.,  98.,  15.],\n",
       "       [184.,  nan,  29.,  98.,  88.],\n",
       "       [185.,  nan,  41.,  99.,  39.],\n",
       "       [186.,  nan,  30.,  99.,  97.],\n",
       "       [187.,  nan,  54., 101.,  24.],\n",
       "       [188.,  nan,  28., 101.,  68.],\n",
       "       [189.,  nan,  41., 103.,  17.],\n",
       "       [190.,  nan,  36., 103.,  85.],\n",
       "       [191.,  nan,  34., 103.,  23.],\n",
       "       [192.,  nan,  32., 103.,  69.],\n",
       "       [193.,  nan,  33., 113.,   8.],\n",
       "       [194.,  nan,  38., 113.,  91.],\n",
       "       [195.,  nan,  47., 120.,  16.],\n",
       "       [196.,  nan,  35., 120.,  79.],\n",
       "       [197.,  nan,  45., 126.,  28.],\n",
       "       [198.,  nan,  32., 126.,  74.],\n",
       "       [199.,  nan,  32., 137.,  18.],\n",
       "       [200.,  nan,  30., 137.,  83.]])"
      ]
     },
     "execution_count": 3,
     "metadata": {},
     "output_type": "execute_result"
    }
   ],
   "source": [
    "# Define the converter function\n",
    "dataset = 'C:/Users/anjal/Downloads/Mall_Customers.csv'\n",
    "data = np.genfromtxt(dataset, delimiter=',', skip_header=1)\n",
    "data"
   ]
  },
  {
   "cell_type": "markdown",
   "id": "507c44d9-5f37-4ef5-bb8d-2e1766374c72",
   "metadata": {},
   "source": [
    "### You will notice the gender column is all NaNs. Why is that ? How can you solve for it? <br>\n",
    "All elements in a NumPy array should be of the same type. Here np.genfromtxt tries to infer the data type, \n",
    "and due to a mismatch between the expected data type and the actual content, the Gender column is showing NAN.<br> \n",
    "\n",
    "We can explicitly specify the data type for each column using the dtype parameter: <br> \n",
    "#### dtype = [('CustomerID', int), ('Gender', 'U10'), ('Age', int), ('Annual Income (k$)', int), ('Spending Score (1-100)', int)] <br>\n",
    "\n",
    "#### dtype=None\n",
    "It will scan the data and determine the most appropriate type based on the values it encounters.i.e.\n",
    "Numerical columns will be inferred as integer/float types. and String columns will be inferred as object types.<br> \n",
    "\n",
    "#### dtype='<i4'\n",
    "To convert the \"Gender\" column also to integers like other columns for consistency, efficiency and convenience."
   ]
  },
  {
   "cell_type": "code",
   "execution_count": 4,
   "id": "6f18a890-07b8-4879-a761-614a651e13f6",
   "metadata": {},
   "outputs": [
    {
     "data": {
      "text/plain": [
       "(array([( 1, 0, 19, 15, 39), ( 2, 0, 21, 15, 81), ( 3, 1, 20, 16,  6),\n",
       "        ( 4, 1, 23, 16, 77), ( 5, 1, 31, 17, 40), ( 6, 1, 22, 17, 76),\n",
       "        ( 7, 1, 35, 18,  6), ( 8, 1, 23, 18, 94), ( 9, 0, 64, 19,  3),\n",
       "        (10, 1, 30, 19, 72)],\n",
       "       dtype=[('CustomerID', '<i4'), ('Gender', '<i4'), ('Age', '<i4'), ('Annual_Income_k', '<i4'), ('Spending_Score_1100', '<i4')]),\n",
       " (200,))"
      ]
     },
     "execution_count": 4,
     "metadata": {},
     "output_type": "execute_result"
    }
   ],
   "source": [
    "# convert Male to 0 and Female to 1\n",
    "def gender_converter(value):\n",
    "    if value == 'Male':\n",
    "        return 0\n",
    "    elif value == 'Female':\n",
    "        return 1\n",
    "\n",
    "data = np.genfromtxt(dataset, delimiter=\",\", dtype='<i4', encoding=None, names=True, converters={1: gender_converter})\n",
    "data[:10], data.shape"
   ]
  },
  {
   "cell_type": "code",
   "execution_count": 5,
   "id": "293ddbf9-9e27-4cc2-8dfe-11ff56ddf4be",
   "metadata": {},
   "outputs": [
    {
     "data": {
      "text/plain": [
       "(200, 5)"
      ]
     },
     "execution_count": 5,
     "metadata": {},
     "output_type": "execute_result"
    }
   ],
   "source": [
    "# Convert to a two-dimensional NumPy array\n",
    "mall_data = np.array([list(item) for item in data])\n",
    "mall_data.shape"
   ]
  },
  {
   "cell_type": "markdown",
   "id": "8c3ef8a6-803c-4115-88e7-569ba40b85ad",
   "metadata": {},
   "source": [
    "## 2. Understand Customer Demographics\n",
    "#### Calculate the average Age, Annual Income, and Spending Score to understand the typical customer profile.\n",
    "#### Analyze customer distribution by gender. Does one gender tend to spend more or earn more on average?"
   ]
  },
  {
   "cell_type": "code",
   "execution_count": 6,
   "id": "93c04a10-58a8-4cc6-ae01-f71cd4380de0",
   "metadata": {},
   "outputs": [
    {
     "data": {
      "text/plain": [
       "array([0, 0, 1, 1, 1, 1, 1, 1, 0, 1, 0, 1, 1, 1, 0, 0, 1, 0, 0, 1, 0, 0,\n",
       "       1, 0, 1, 0, 1, 0, 1, 1, 0, 1, 0, 0, 1, 1, 1, 1, 1, 1, 1, 0, 0, 1,\n",
       "       1, 1, 1, 1, 1, 1, 1, 0, 1, 0, 1, 0, 1, 0, 1, 0, 0, 0, 1, 1, 0, 0,\n",
       "       1, 1, 0, 1, 0, 1, 1, 1, 0, 0, 1, 0, 1, 1, 0, 0, 0, 1, 1, 0, 1, 1,\n",
       "       1, 1, 1, 0, 0, 1, 1, 0, 1, 1, 0, 0, 1, 1, 0, 0, 0, 1, 1, 0, 0, 0,\n",
       "       0, 1, 1, 0, 1, 1, 1, 1, 1, 1, 0, 1, 1, 0, 1, 1, 0, 0, 0, 0, 0, 0,\n",
       "       1, 1, 0, 1, 1, 0, 0, 1, 1, 0, 1, 1, 0, 0, 0, 1, 1, 0, 0, 0, 1, 1,\n",
       "       1, 1, 0, 1, 0, 1, 1, 1, 0, 1, 0, 1, 0, 1, 1, 0, 0, 0, 0, 0, 1, 1,\n",
       "       0, 0, 0, 0, 1, 1, 0, 1, 1, 0, 1, 0, 1, 1, 1, 1, 0, 1, 1, 1, 1, 0,\n",
       "       0, 0])"
      ]
     },
     "execution_count": 6,
     "metadata": {},
     "output_type": "execute_result"
    }
   ],
   "source": [
    "genders = mall_data[:, 1] \n",
    "genders"
   ]
  },
  {
   "cell_type": "code",
   "execution_count": 7,
   "id": "891827dd-c2a0-4a22-b05a-56c5b563f8a2",
   "metadata": {},
   "outputs": [
    {
     "data": {
      "text/plain": [
       "(88, 112)"
      ]
     },
     "execution_count": 7,
     "metadata": {},
     "output_type": "execute_result"
    }
   ],
   "source": [
    "males = np.sum(genders == 0)\n",
    "females = np.sum(genders == 1)\n",
    "males, females"
   ]
  },
  {
   "cell_type": "code",
   "execution_count": 8,
   "id": "37dacac9-2ebd-4fc2-9729-fb9393ce8615",
   "metadata": {},
   "outputs": [
    {
     "data": {
      "text/plain": [
       "array([19, 21, 20, 23, 31, 22, 35, 23, 64, 30, 67, 35, 58, 24, 37, 22, 35,\n",
       "       20, 52, 35, 35, 25, 46, 31, 54, 29, 45, 35, 40, 23, 60, 21, 53, 18,\n",
       "       49, 21, 42, 30, 36, 20, 65, 24, 48, 31, 49, 24, 50, 27, 29, 31, 49,\n",
       "       33, 31, 59, 50, 47, 51, 69, 27, 53, 70, 19, 67, 54, 63, 18, 43, 68,\n",
       "       19, 32, 70, 47, 60, 60, 59, 26, 45, 40, 23, 49, 57, 38, 67, 46, 21,\n",
       "       48, 55, 22, 34, 50, 68, 18, 48, 40, 32, 24, 47, 27, 48, 20, 23, 49,\n",
       "       67, 26, 49, 21, 66, 54, 68, 66, 65, 19, 38, 19, 18, 19, 63, 49, 51,\n",
       "       50, 27, 38, 40, 39, 23, 31, 43, 40, 59, 38, 47, 39, 25, 31, 20, 29,\n",
       "       44, 32, 19, 35, 57, 32, 28, 32, 25, 28, 48, 32, 34, 34, 43, 39, 44,\n",
       "       38, 47, 27, 37, 30, 34, 30, 56, 29, 19, 31, 50, 36, 42, 33, 36, 32,\n",
       "       40, 28, 36, 36, 52, 30, 58, 27, 59, 35, 37, 32, 46, 29, 41, 30, 54,\n",
       "       28, 41, 36, 34, 32, 33, 38, 47, 35, 45, 32, 32, 30])"
      ]
     },
     "execution_count": 8,
     "metadata": {},
     "output_type": "execute_result"
    }
   ],
   "source": [
    "ages = mall_data[:,2]\n",
    "ages"
   ]
  },
  {
   "cell_type": "code",
   "execution_count": 9,
   "id": "dde0e951-e866-4de3-a199-42c464387008",
   "metadata": {},
   "outputs": [
    {
     "data": {
      "text/plain": [
       "(18, 70, 38.85)"
      ]
     },
     "execution_count": 9,
     "metadata": {},
     "output_type": "execute_result"
    }
   ],
   "source": [
    "np.min(ages), np.max(ages), np.mean(ages)"
   ]
  },
  {
   "cell_type": "code",
   "execution_count": 10,
   "id": "8b38f8de",
   "metadata": {},
   "outputs": [
    {
     "data": {
      "text/plain": [
       "(18, 70, 39.80681818181818)"
      ]
     },
     "execution_count": 10,
     "metadata": {},
     "output_type": "execute_result"
    }
   ],
   "source": [
    "# Males age data\n",
    "male_data = mall_data[genders == 0]\n",
    "np.min(male_data[:,2]), np.max(male_data[:,2]), np.mean(male_data[:,2])"
   ]
  },
  {
   "cell_type": "code",
   "execution_count": 11,
   "id": "00b32c46",
   "metadata": {},
   "outputs": [
    {
     "data": {
      "text/plain": [
       "(18, 68, 38.098214285714285)"
      ]
     },
     "execution_count": 11,
     "metadata": {},
     "output_type": "execute_result"
    }
   ],
   "source": [
    "# Females age data\n",
    "female_data = mall_data[genders == 1]\n",
    "np.min(female_data[:,2]), np.max(female_data[:,2]), np.mean(female_data[:,2])"
   ]
  },
  {
   "cell_type": "code",
   "execution_count": 12,
   "id": "68d6c668-4da8-47fa-956e-1214ad8c65e7",
   "metadata": {},
   "outputs": [
    {
     "data": {
      "text/plain": [
       "array([ 15,  15,  16,  16,  17,  17,  18,  18,  19,  19,  19,  19,  20,\n",
       "        20,  20,  20,  21,  21,  23,  23,  24,  24,  25,  25,  28,  28,\n",
       "        28,  28,  29,  29,  30,  30,  33,  33,  33,  33,  34,  34,  37,\n",
       "        37,  38,  38,  39,  39,  39,  39,  40,  40,  40,  40,  42,  42,\n",
       "        43,  43,  43,  43,  44,  44,  46,  46,  46,  46,  47,  47,  48,\n",
       "        48,  48,  48,  48,  48,  49,  49,  50,  50,  54,  54,  54,  54,\n",
       "        54,  54,  54,  54,  54,  54,  54,  54,  57,  57,  58,  58,  59,\n",
       "        59,  60,  60,  60,  60,  60,  60,  61,  61,  62,  62,  62,  62,\n",
       "        62,  62,  63,  63,  63,  63,  63,  63,  64,  64,  65,  65,  65,\n",
       "        65,  67,  67,  67,  67,  69,  69,  70,  70,  71,  71,  71,  71,\n",
       "        71,  71,  72,  72,  73,  73,  73,  73,  74,  74,  75,  75,  76,\n",
       "        76,  77,  77,  77,  77,  78,  78,  78,  78,  78,  78,  78,  78,\n",
       "        78,  78,  78,  78,  79,  79,  81,  81,  85,  85,  86,  86,  87,\n",
       "        87,  87,  87,  87,  87,  88,  88,  88,  88,  93,  93,  97,  97,\n",
       "        98,  98,  99,  99, 101, 101, 103, 103, 103, 103, 113, 113, 120,\n",
       "       120, 126, 126, 137, 137])"
      ]
     },
     "execution_count": 12,
     "metadata": {},
     "output_type": "execute_result"
    }
   ],
   "source": [
    "annual_incomes = mall_data[:,3]\n",
    "annual_incomes"
   ]
  },
  {
   "cell_type": "code",
   "execution_count": 13,
   "id": "4e7630a0-a283-4ca2-96cf-1bf1058fb318",
   "metadata": {},
   "outputs": [
    {
     "data": {
      "text/plain": [
       "(15, 137, 60.56)"
      ]
     },
     "execution_count": 13,
     "metadata": {},
     "output_type": "execute_result"
    }
   ],
   "source": [
    "average_annual_income = np.mean(annual_incomes)\n",
    "np.min(annual_incomes), np.max(annual_incomes), average_annual_income"
   ]
  },
  {
   "cell_type": "code",
   "execution_count": 14,
   "id": "d391c32c",
   "metadata": {},
   "outputs": [
    {
     "data": {
      "text/plain": [
       "(15, 137, 62.22727272727273)"
      ]
     },
     "execution_count": 14,
     "metadata": {},
     "output_type": "execute_result"
    }
   ],
   "source": [
    "# Males annual income data\n",
    "np.min(male_data[:,3]), np.max(male_data[:,3]), np.mean(male_data[:,3])"
   ]
  },
  {
   "cell_type": "code",
   "execution_count": 15,
   "id": "18b6c2b1",
   "metadata": {},
   "outputs": [
    {
     "data": {
      "text/plain": [
       "(16, 126, 59.25)"
      ]
     },
     "execution_count": 15,
     "metadata": {},
     "output_type": "execute_result"
    }
   ],
   "source": [
    "# Females annual income data\n",
    "np.min(female_data[:,3]), np.max(female_data[:,3]), np.mean(female_data[:,3])"
   ]
  },
  {
   "cell_type": "code",
   "execution_count": 16,
   "id": "c99e06f7-6e0b-44f6-86aa-dd3e9456cba3",
   "metadata": {},
   "outputs": [
    {
     "data": {
      "text/plain": [
       "array([39, 81,  6, 77, 40, 76,  6, 94,  3, 72, 14, 99, 15, 77, 13, 79, 35,\n",
       "       66, 29, 98, 35, 73,  5, 73, 14, 82, 32, 61, 31, 87,  4, 73,  4, 92,\n",
       "       14, 81, 17, 73, 26, 75, 35, 92, 36, 61, 28, 65, 55, 47, 42, 42, 52,\n",
       "       60, 54, 60, 45, 41, 50, 46, 51, 46, 56, 55, 52, 59, 51, 59, 50, 48,\n",
       "       59, 47, 55, 42, 49, 56, 47, 54, 53, 48, 52, 42, 51, 55, 41, 44, 57,\n",
       "       46, 58, 55, 60, 46, 55, 41, 49, 40, 42, 52, 47, 50, 42, 49, 41, 48,\n",
       "       59, 55, 56, 42, 50, 46, 43, 48, 52, 54, 42, 46, 48, 50, 43, 59, 43,\n",
       "       57, 56, 40, 58, 91, 29, 77, 35, 95, 11, 75,  9, 75, 34, 71,  5, 88,\n",
       "        7, 73, 10, 72,  5, 93, 40, 87, 12, 97, 36, 74, 22, 90, 17, 88, 20,\n",
       "       76, 16, 89,  1, 78,  1, 73, 35, 83,  5, 93, 26, 75, 20, 95, 27, 63,\n",
       "       13, 75, 10, 92, 13, 86, 15, 69, 14, 90, 32, 86, 15, 88, 39, 97, 24,\n",
       "       68, 17, 85, 23, 69,  8, 91, 16, 79, 28, 74, 18, 83])"
      ]
     },
     "execution_count": 16,
     "metadata": {},
     "output_type": "execute_result"
    }
   ],
   "source": [
    "spending_scores = mall_data[:,4]\n",
    "spending_scores"
   ]
  },
  {
   "cell_type": "code",
   "execution_count": 17,
   "id": "db19e6e3-2a59-4df1-bb19-167371711a3f",
   "metadata": {},
   "outputs": [
    {
     "data": {
      "text/plain": [
       "50.2"
      ]
     },
     "execution_count": 17,
     "metadata": {},
     "output_type": "execute_result"
    }
   ],
   "source": [
    "np.mean(spending_scores)"
   ]
  },
  {
   "cell_type": "code",
   "execution_count": 18,
   "id": "3429b1af",
   "metadata": {},
   "outputs": [
    {
     "data": {
      "text/plain": [
       "(1, 97, 48.51136363636363)"
      ]
     },
     "execution_count": 18,
     "metadata": {},
     "output_type": "execute_result"
    }
   ],
   "source": [
    "# Males spending data\n",
    "np.min(male_data[:,4]), np.max(male_data[:,4]), np.mean(male_data[:,4])"
   ]
  },
  {
   "cell_type": "code",
   "execution_count": 19,
   "id": "130d90a4",
   "metadata": {},
   "outputs": [
    {
     "data": {
      "text/plain": [
       "(5, 99, 51.526785714285715)"
      ]
     },
     "execution_count": 19,
     "metadata": {},
     "output_type": "execute_result"
    }
   ],
   "source": [
    "# Females spending data\n",
    "np.min(female_data[:,4]), np.max(female_data[:,4]), np.mean(female_data[:,4])"
   ]
  },
  {
   "cell_type": "markdown",
   "id": "00850fee",
   "metadata": {},
   "source": [
    "__In the dataset comprising 200 entries and 5 columns, there are 88 males and 112 females. The ages of the customers range from 18 to 70 years, with an average age of 38.85 years. The average age of the male customer is 39.8 years, while the avergae age of female customer is 38 years.__\n",
    "\n",
    "__The annual income of the customers varies between 15,000 and 137,000, with an overall average of 60,560. When broken down by gender, the average annual income for men is 62,220, whereas for women, it is 59,250.__ \n",
    "\n",
    "__Spending scores, which are assigned to customers on a scale from 1 to 99, appear to be somewhat evenly distributed between men and women. Men's average spending score is 48.51 and that of women is 51.52.__"
   ]
  },
  {
   "cell_type": "markdown",
   "id": "7ac98b80-3e46-4ca0-b33c-5c887c983b48",
   "metadata": {},
   "source": [
    "## 2: Identify High-Value Customers\n",
    "\n",
    "#### Identify the top 10 customers by Spending Score. What do they have in common (e.g., age group, gender)?"
   ]
  },
  {
   "cell_type": "code",
   "execution_count": 84,
   "id": "b41b2d0f",
   "metadata": {},
   "outputs": [
    {
     "data": {
      "text/plain": [
       "array([[ 12,   1,  35,  19,  99],\n",
       "       [ 20,   1,  35,  23,  98],\n",
       "       [186,   0,  30,  99,  97],\n",
       "       [146,   0,  28,  77,  97],\n",
       "       [168,   1,  33,  86,  95],\n",
       "       [128,   0,  40,  71,  95],\n",
       "       [  8,   1,  23,  18,  94],\n",
       "       [142,   0,  32,  75,  93],\n",
       "       [164,   1,  31,  81,  93],\n",
       "       [ 42,   0,  24,  38,  92]])"
      ]
     },
     "execution_count": 84,
     "metadata": {},
     "output_type": "execute_result"
    }
   ],
   "source": [
    "# Sorting based on the spending score\n",
    "top_ten_spenders = mall_data[mall_data[:, 4].argsort()[::-1]][:10]\n",
    "top_ten_spenders\n"
   ]
  },
  {
   "cell_type": "code",
   "execution_count": 34,
   "id": "32e6e12f-ec83-4ebd-8714-d381858bb2f5",
   "metadata": {},
   "outputs": [
    {
     "data": {
      "text/plain": [
       "(5, 5)"
      ]
     },
     "execution_count": 34,
     "metadata": {},
     "output_type": "execute_result"
    }
   ],
   "source": [
    "# No. of males and females in top spenders\n",
    "np.sum(top_ten_spenders[:,1] == 0), np.sum(top_ten_spenders[:,1] == 1) "
   ]
  },
  {
   "cell_type": "code",
   "execution_count": 35,
   "id": "cdaf4a13-befb-40a8-882e-2db153567ff3",
   "metadata": {},
   "outputs": [
    {
     "data": {
      "text/plain": [
       "(31.1, 30.8, 31.4)"
      ]
     },
     "execution_count": 35,
     "metadata": {},
     "output_type": "execute_result"
    }
   ],
   "source": [
    "# Average age of top spenders\n",
    "np.mean(top_ten_spenders[:,2]), np.mean(top_ten_spenders[top_ten_spenders[:,1]==0][:,2]), np.mean(top_ten_spenders[top_ten_spenders[:,1]==1][:,2]) "
   ]
  },
  {
   "cell_type": "code",
   "execution_count": 86,
   "id": "775f16bb",
   "metadata": {},
   "outputs": [
    {
     "data": {
      "text/plain": [
       "(58.7, 72.0, 45.4)"
      ]
     },
     "execution_count": 86,
     "metadata": {},
     "output_type": "execute_result"
    }
   ],
   "source": [
    "# Avergae annual income of top spenders\n",
    "np.mean(top_ten_spenders[:,3]), np.mean(top_ten_spenders[top_ten_spenders[:,1]==0][:,3]), np.mean(top_ten_spenders[top_ten_spenders[:,1]==1][:,3])\n"
   ]
  },
  {
   "cell_type": "markdown",
   "id": "63f96a83-34d1-4286-b024-5160d47ef3ee",
   "metadata": {},
   "source": [
    "### Conclusion:\n",
    "There are 5 men and 5 female in top ten spenders category, with the average age of 31 years. Their average annual income is 59k, Where men has average annual income of 72k and women has 45k$.\n",
    "\n",
    "__The top 10 spenders are equally divided between men and women, Despite the income disparity, both men and women are among the top spenders. Younger individuals are more likely to be high spenders.__"
   ]
  },
  {
   "cell_type": "markdown",
   "id": "77b5a384-1527-43f9-9476-9cb9d6d80b39",
   "metadata": {},
   "source": [
    "### 3: Explore Relationships Between Features\n",
    "#### Compute the pairwise correlations between Age, Annual Income, and Spending Score to uncover key drivers of spending.\n",
    "\n"
   ]
  },
  {
   "cell_type": "code",
   "execution_count": 37,
   "id": "d0c8824f",
   "metadata": {},
   "outputs": [
    {
     "data": {
      "text/plain": [
       "array([[ 19,  15,  39],\n",
       "       [ 21,  15,  81],\n",
       "       [ 20,  16,   6],\n",
       "       [ 23,  16,  77],\n",
       "       [ 31,  17,  40],\n",
       "       [ 22,  17,  76],\n",
       "       [ 35,  18,   6],\n",
       "       [ 23,  18,  94],\n",
       "       [ 64,  19,   3],\n",
       "       [ 30,  19,  72],\n",
       "       [ 67,  19,  14],\n",
       "       [ 35,  19,  99],\n",
       "       [ 58,  20,  15],\n",
       "       [ 24,  20,  77],\n",
       "       [ 37,  20,  13],\n",
       "       [ 22,  20,  79],\n",
       "       [ 35,  21,  35],\n",
       "       [ 20,  21,  66],\n",
       "       [ 52,  23,  29],\n",
       "       [ 35,  23,  98],\n",
       "       [ 35,  24,  35],\n",
       "       [ 25,  24,  73],\n",
       "       [ 46,  25,   5],\n",
       "       [ 31,  25,  73],\n",
       "       [ 54,  28,  14],\n",
       "       [ 29,  28,  82],\n",
       "       [ 45,  28,  32],\n",
       "       [ 35,  28,  61],\n",
       "       [ 40,  29,  31],\n",
       "       [ 23,  29,  87],\n",
       "       [ 60,  30,   4],\n",
       "       [ 21,  30,  73],\n",
       "       [ 53,  33,   4],\n",
       "       [ 18,  33,  92],\n",
       "       [ 49,  33,  14],\n",
       "       [ 21,  33,  81],\n",
       "       [ 42,  34,  17],\n",
       "       [ 30,  34,  73],\n",
       "       [ 36,  37,  26],\n",
       "       [ 20,  37,  75],\n",
       "       [ 65,  38,  35],\n",
       "       [ 24,  38,  92],\n",
       "       [ 48,  39,  36],\n",
       "       [ 31,  39,  61],\n",
       "       [ 49,  39,  28],\n",
       "       [ 24,  39,  65],\n",
       "       [ 50,  40,  55],\n",
       "       [ 27,  40,  47],\n",
       "       [ 29,  40,  42],\n",
       "       [ 31,  40,  42],\n",
       "       [ 49,  42,  52],\n",
       "       [ 33,  42,  60],\n",
       "       [ 31,  43,  54],\n",
       "       [ 59,  43,  60],\n",
       "       [ 50,  43,  45],\n",
       "       [ 47,  43,  41],\n",
       "       [ 51,  44,  50],\n",
       "       [ 69,  44,  46],\n",
       "       [ 27,  46,  51],\n",
       "       [ 53,  46,  46],\n",
       "       [ 70,  46,  56],\n",
       "       [ 19,  46,  55],\n",
       "       [ 67,  47,  52],\n",
       "       [ 54,  47,  59],\n",
       "       [ 63,  48,  51],\n",
       "       [ 18,  48,  59],\n",
       "       [ 43,  48,  50],\n",
       "       [ 68,  48,  48],\n",
       "       [ 19,  48,  59],\n",
       "       [ 32,  48,  47],\n",
       "       [ 70,  49,  55],\n",
       "       [ 47,  49,  42],\n",
       "       [ 60,  50,  49],\n",
       "       [ 60,  50,  56],\n",
       "       [ 59,  54,  47],\n",
       "       [ 26,  54,  54],\n",
       "       [ 45,  54,  53],\n",
       "       [ 40,  54,  48],\n",
       "       [ 23,  54,  52],\n",
       "       [ 49,  54,  42],\n",
       "       [ 57,  54,  51],\n",
       "       [ 38,  54,  55],\n",
       "       [ 67,  54,  41],\n",
       "       [ 46,  54,  44],\n",
       "       [ 21,  54,  57],\n",
       "       [ 48,  54,  46],\n",
       "       [ 55,  57,  58],\n",
       "       [ 22,  57,  55],\n",
       "       [ 34,  58,  60],\n",
       "       [ 50,  58,  46],\n",
       "       [ 68,  59,  55],\n",
       "       [ 18,  59,  41],\n",
       "       [ 48,  60,  49],\n",
       "       [ 40,  60,  40],\n",
       "       [ 32,  60,  42],\n",
       "       [ 24,  60,  52],\n",
       "       [ 47,  60,  47],\n",
       "       [ 27,  60,  50],\n",
       "       [ 48,  61,  42],\n",
       "       [ 20,  61,  49],\n",
       "       [ 23,  62,  41],\n",
       "       [ 49,  62,  48],\n",
       "       [ 67,  62,  59],\n",
       "       [ 26,  62,  55],\n",
       "       [ 49,  62,  56],\n",
       "       [ 21,  62,  42],\n",
       "       [ 66,  63,  50],\n",
       "       [ 54,  63,  46],\n",
       "       [ 68,  63,  43],\n",
       "       [ 66,  63,  48],\n",
       "       [ 65,  63,  52],\n",
       "       [ 19,  63,  54],\n",
       "       [ 38,  64,  42],\n",
       "       [ 19,  64,  46],\n",
       "       [ 18,  65,  48],\n",
       "       [ 19,  65,  50],\n",
       "       [ 63,  65,  43],\n",
       "       [ 49,  65,  59],\n",
       "       [ 51,  67,  43],\n",
       "       [ 50,  67,  57],\n",
       "       [ 27,  67,  56],\n",
       "       [ 38,  67,  40],\n",
       "       [ 40,  69,  58],\n",
       "       [ 39,  69,  91],\n",
       "       [ 23,  70,  29],\n",
       "       [ 31,  70,  77],\n",
       "       [ 43,  71,  35],\n",
       "       [ 40,  71,  95],\n",
       "       [ 59,  71,  11],\n",
       "       [ 38,  71,  75],\n",
       "       [ 47,  71,   9],\n",
       "       [ 39,  71,  75],\n",
       "       [ 25,  72,  34],\n",
       "       [ 31,  72,  71],\n",
       "       [ 20,  73,   5],\n",
       "       [ 29,  73,  88],\n",
       "       [ 44,  73,   7],\n",
       "       [ 32,  73,  73],\n",
       "       [ 19,  74,  10],\n",
       "       [ 35,  74,  72],\n",
       "       [ 57,  75,   5],\n",
       "       [ 32,  75,  93],\n",
       "       [ 28,  76,  40],\n",
       "       [ 32,  76,  87],\n",
       "       [ 25,  77,  12],\n",
       "       [ 28,  77,  97],\n",
       "       [ 48,  77,  36],\n",
       "       [ 32,  77,  74],\n",
       "       [ 34,  78,  22],\n",
       "       [ 34,  78,  90],\n",
       "       [ 43,  78,  17],\n",
       "       [ 39,  78,  88],\n",
       "       [ 44,  78,  20],\n",
       "       [ 38,  78,  76],\n",
       "       [ 47,  78,  16],\n",
       "       [ 27,  78,  89],\n",
       "       [ 37,  78,   1],\n",
       "       [ 30,  78,  78],\n",
       "       [ 34,  78,   1],\n",
       "       [ 30,  78,  73],\n",
       "       [ 56,  79,  35],\n",
       "       [ 29,  79,  83],\n",
       "       [ 19,  81,   5],\n",
       "       [ 31,  81,  93],\n",
       "       [ 50,  85,  26],\n",
       "       [ 36,  85,  75],\n",
       "       [ 42,  86,  20],\n",
       "       [ 33,  86,  95],\n",
       "       [ 36,  87,  27],\n",
       "       [ 32,  87,  63],\n",
       "       [ 40,  87,  13],\n",
       "       [ 28,  87,  75],\n",
       "       [ 36,  87,  10],\n",
       "       [ 36,  87,  92],\n",
       "       [ 52,  88,  13],\n",
       "       [ 30,  88,  86],\n",
       "       [ 58,  88,  15],\n",
       "       [ 27,  88,  69],\n",
       "       [ 59,  93,  14],\n",
       "       [ 35,  93,  90],\n",
       "       [ 37,  97,  32],\n",
       "       [ 32,  97,  86],\n",
       "       [ 46,  98,  15],\n",
       "       [ 29,  98,  88],\n",
       "       [ 41,  99,  39],\n",
       "       [ 30,  99,  97],\n",
       "       [ 54, 101,  24],\n",
       "       [ 28, 101,  68],\n",
       "       [ 41, 103,  17],\n",
       "       [ 36, 103,  85],\n",
       "       [ 34, 103,  23],\n",
       "       [ 32, 103,  69],\n",
       "       [ 33, 113,   8],\n",
       "       [ 38, 113,  91],\n",
       "       [ 47, 120,  16],\n",
       "       [ 35, 120,  79],\n",
       "       [ 45, 126,  28],\n",
       "       [ 32, 126,  74],\n",
       "       [ 32, 137,  18],\n",
       "       [ 30, 137,  83]])"
      ]
     },
     "execution_count": 37,
     "metadata": {},
     "output_type": "execute_result"
    }
   ],
   "source": [
    "features = mall_data[:, 2:]\n",
    "features"
   ]
  },
  {
   "cell_type": "code",
   "execution_count": 38,
   "id": "dbf31f16",
   "metadata": {},
   "outputs": [
    {
     "data": {
      "text/plain": [
       "(3, 200)"
      ]
     },
     "execution_count": 38,
     "metadata": {},
     "output_type": "execute_result"
    }
   ],
   "source": [
    "# Transpose the data so that each row represents a variable\n",
    "features_transposed = features.T\n",
    "features_transposed.shape"
   ]
  },
  {
   "cell_type": "code",
   "execution_count": 39,
   "id": "2b530d58",
   "metadata": {},
   "outputs": [
    {
     "data": {
      "text/plain": [
       "array([[ 1.        , -0.01239804, -0.32722685],\n",
       "       [-0.01239804,  1.        ,  0.00990285],\n",
       "       [-0.32722685,  0.00990285,  1.        ]])"
      ]
     },
     "execution_count": 39,
     "metadata": {},
     "output_type": "execute_result"
    }
   ],
   "source": [
    "# Compute the correlation coefficient matrix\n",
    "correlation_matrix = np.corrcoef(features_transposed)\n",
    "correlation_matrix "
   ]
  },
  {
   "cell_type": "markdown",
   "id": "871948ad-1e79-4aeb-9fc7-2e110dcb7a8e",
   "metadata": {},
   "source": [
    "This output shows the pairwise correlations between Age, Annual Income, and Spending Score. In this example:\n",
    "The correlation between Age and Annual Income is -0.01239804.\n",
    "The correlation between Age and Spending Score is -0.32722685.\n",
    "The correlation between Annual Income and Spending Score is 0.00990285."
   ]
  },
  {
   "cell_type": "markdown",
   "id": "7a050453-9f0c-42ac-9826-eb1bcdcc7eac",
   "metadata": {},
   "source": [
    "A correlation coefficient of -0.01239804 between Age and Annual Income suggests an extremely weak negative linear relationship between the two variables. The magnitude is very close to 0, indicating that there is essentially no linear relationship between Age and Annual Income in your dataset. Changes in age have almost no impact on annual income. The negative sign indicates that, theoretically, as age increases, annual income might decrease slightly. Age does not appear to be a useful predictor of annual income."
   ]
  },
  {
   "cell_type": "markdown",
   "id": "2c9bc1ff-240f-4b19-b6cc-1a3cc03c2219",
   "metadata": {},
   "source": [
    "A correlation coefficient of -0.32722685 between Age and Spending Score indicates a moderate negative linear relationship between the two variables. The negative sign indicates that as age increases, the spending score tends to decrease. Older customers tend to have lower spending scores, while younger customers tend to have higher spending scores."
   ]
  },
  {
   "cell_type": "markdown",
   "id": "1d7ced96-8864-42c1-bd61-8527c1f47bd1",
   "metadata": {},
   "source": [
    "A correlation coefficient of 0.00990285 between Annual Income and Spending Score suggests an extremely weak positive linear relationship between these two variables. The magnitude is very close to 0, indicating that there is essentially no linear relationship between Annual Income and Spending Score. The positive sign indicates that, theoretically, as annual income increases, the spending score might increase slightly. Annual income does not appear to be a useful predictor of spending score."
   ]
  },
  {
   "cell_type": "markdown",
   "id": "926bf7d0-0ae0-4264-ace3-53ef18a260b1",
   "metadata": {},
   "source": [
    "#### Filter young adults (18-25) and calculate their average Spending Score. Compare this with older age groups."
   ]
  },
  {
   "cell_type": "code",
   "execution_count": 40,
   "id": "bf35f25c",
   "metadata": {},
   "outputs": [
    {
     "data": {
      "text/plain": [
       "(38, 5)"
      ]
     },
     "execution_count": 40,
     "metadata": {},
     "output_type": "execute_result"
    }
   ],
   "source": [
    "young_filtered_data = mall_data[(mall_data[:, 2] >= 18) & (mall_data[:, 2] <= 25)]\n",
    "young_filtered_data.shape"
   ]
  },
  {
   "cell_type": "code",
   "execution_count": 41,
   "id": "45d94418",
   "metadata": {},
   "outputs": [
    {
     "data": {
      "text/plain": [
       "54.94736842105263"
      ]
     },
     "execution_count": 41,
     "metadata": {},
     "output_type": "execute_result"
    }
   ],
   "source": [
    "spending_score_young_adults = young_filtered_data[:,4]\n",
    "average_spending_score_young_adults = np.mean(spending_score_young_adults)\n",
    "average_spending_score_young_adults"
   ]
  },
  {
   "cell_type": "code",
   "execution_count": 42,
   "id": "9ff9d38f",
   "metadata": {},
   "outputs": [
    {
     "data": {
      "text/plain": [
       "(18, 20)"
      ]
     },
     "execution_count": 42,
     "metadata": {},
     "output_type": "execute_result"
    }
   ],
   "source": [
    "np.sum(young_filtered_data[:,1] == 0), np.sum(young_filtered_data[:,1] == 1) "
   ]
  },
  {
   "cell_type": "code",
   "execution_count": 43,
   "id": "41b8987d",
   "metadata": {},
   "outputs": [
    {
     "data": {
      "text/plain": [
       "(54.94736842105263, 50.833333333333336, 58.65)"
      ]
     },
     "execution_count": 43,
     "metadata": {},
     "output_type": "execute_result"
    }
   ],
   "source": [
    "np.mean(young_filtered_data[:,4]), np.mean(young_filtered_data[young_filtered_data[:,1] == 0][:,4]), np.mean(young_filtered_data[young_filtered_data[:,1] == 1][:,4])\n"
   ]
  },
  {
   "cell_type": "code",
   "execution_count": 44,
   "id": "5ba90758",
   "metadata": {},
   "outputs": [
    {
     "data": {
      "text/plain": [
       "(45.68421052631579, 47.611111111111114, 43.95)"
      ]
     },
     "execution_count": 44,
     "metadata": {},
     "output_type": "execute_result"
    }
   ],
   "source": [
    "np.mean(young_filtered_data[:,3]), np.mean(young_filtered_data[young_filtered_data[:,1] == 0][:,3]), np.mean(young_filtered_data[young_filtered_data[:,1] == 1][:,3])\n"
   ]
  },
  {
   "cell_type": "markdown",
   "id": "50768107-0932-4b90-b973-010412fadf09",
   "metadata": {},
   "source": [
    "#### The average spending score of the young adults is about 55. \n",
    "There are 18 men with average spending score of 51 and 20 women with average spending score of 59. The average annual income of young adults is 46k."
   ]
  },
  {
   "cell_type": "code",
   "execution_count": 45,
   "id": "a236f06b",
   "metadata": {},
   "outputs": [
    {
     "data": {
      "text/plain": [
       "(162, 5)"
      ]
     },
     "execution_count": 45,
     "metadata": {},
     "output_type": "execute_result"
    }
   ],
   "source": [
    "older_filtered_data = mall_data[mall_data[:, 2] > 25]\n",
    "older_filtered_data.shape"
   ]
  },
  {
   "cell_type": "code",
   "execution_count": 46,
   "id": "98f21230",
   "metadata": {},
   "outputs": [
    {
     "data": {
      "text/plain": [
       "49.08641975308642"
      ]
     },
     "execution_count": 46,
     "metadata": {},
     "output_type": "execute_result"
    }
   ],
   "source": [
    "spending_score_older_adults = older_filtered_data[:,4]\n",
    "average_spending_score_older_adults = np.mean(spending_score_older_adults)\n",
    "average_spending_score_older_adults"
   ]
  },
  {
   "cell_type": "code",
   "execution_count": 47,
   "id": "9eaa6612-6546-4b07-b9eb-52edd0aab400",
   "metadata": {},
   "outputs": [
    {
     "data": {
      "text/plain": [
       "(70, 92)"
      ]
     },
     "execution_count": 47,
     "metadata": {},
     "output_type": "execute_result"
    }
   ],
   "source": [
    "# no. of men and women\n",
    "np.sum(older_filtered_data[:,1] == 0), np.sum(older_filtered_data[:,1] == 1) "
   ]
  },
  {
   "cell_type": "code",
   "execution_count": 48,
   "id": "e2d90c97-2ba6-4a7b-a0ab-8c2c4f4483e6",
   "metadata": {},
   "outputs": [
    {
     "data": {
      "text/plain": [
       "(49.08641975308642, 47.91428571428571, 49.97826086956522)"
      ]
     },
     "execution_count": 48,
     "metadata": {},
     "output_type": "execute_result"
    }
   ],
   "source": [
    "# Average spending score\n",
    "np.mean(older_filtered_data[:,4]), np.mean(older_filtered_data[older_filtered_data[:,1] == 0][:,4]), np.mean(older_filtered_data[older_filtered_data[:,1] == 1][:,4])\n"
   ]
  },
  {
   "cell_type": "code",
   "execution_count": 49,
   "id": "1d84b18f-912b-4f9d-b9ea-77a66e57efd7",
   "metadata": {},
   "outputs": [
    {
     "data": {
      "text/plain": [
       "(64.04938271604938, 65.98571428571428, 62.57608695652174)"
      ]
     },
     "execution_count": 49,
     "metadata": {},
     "output_type": "execute_result"
    }
   ],
   "source": [
    "# Average annual income\n",
    "np.mean(older_filtered_data[:,3]), np.mean(older_filtered_data[older_filtered_data[:,1] == 0][:,3]), np.mean(older_filtered_data[older_filtered_data[:,1] == 1][:,3])\n"
   ]
  },
  {
   "cell_type": "markdown",
   "id": "56f67d03-54b1-4ca5-b0d6-c56a632d1a26",
   "metadata": {},
   "source": [
    "#### The average spending score of the older adults is 49.\n",
    "There are 70 men with averge spending score of 48 and 92 women with average spending score of 50. The average annual income of older adults is 64k."
   ]
  },
  {
   "cell_type": "markdown",
   "id": "8f826474",
   "metadata": {},
   "source": [
    "### Conclusion: Young adults seem to spend more than older individuals"
   ]
  },
  {
   "cell_type": "markdown",
   "id": "bf3a01e5-c4b1-4236-b9d9-60c0c1cdee82",
   "metadata": {},
   "source": [
    "### Customer Segmentation"
   ]
  },
  {
   "cell_type": "markdown",
   "id": "103f5623-4f30-49d5-8c88-826fe49cb393",
   "metadata": {},
   "source": [
    "Group customers into three segments based on their Spending Score:\n",
    "○ Low (1-33)\n",
    "○ Medium (34-66)\n",
    "○ High (67-100)\n",
    "Compute the average Age and Annual Income for each segment. What are the characteristics of each group?\r\n",
    "● Propose marketing strategies for each segment.\r\n",
    "● Hint: Use NumPy’s slicing and aggregation techniques."
   ]
  },
  {
   "cell_type": "code",
   "execution_count": 55,
   "id": "f2b650a8-a144-4f8f-b14b-249893bb351b",
   "metadata": {},
   "outputs": [
    {
     "data": {
      "text/plain": [
       "(49, 94, 57)"
      ]
     },
     "execution_count": 55,
     "metadata": {},
     "output_type": "execute_result"
    }
   ],
   "source": [
    "# Let us consider three categories of customers based on their spending scores\n",
    "low_spenders = mall_data[spending_scores <= 33]\n",
    "medium_spenders = mall_data[(spending_scores > 33) & (spending_scores <= 66)]\n",
    "high_spenders = mall_data[spending_scores > 66]\n",
    "len(low_spenders), len(medium_spenders), len(high_spenders)"
   ]
  },
  {
   "cell_type": "code",
   "execution_count": 56,
   "id": "c2f47001-9899-42a5-8e3b-f3926e8e8318",
   "metadata": {},
   "outputs": [
    {
     "data": {
      "text/plain": [
       "(24, 25)"
      ]
     },
     "execution_count": 56,
     "metadata": {},
     "output_type": "execute_result"
    }
   ],
   "source": [
    "# Low spenders: No. of male and female customers whose spending \n",
    "len(low_spenders[low_spenders[:,1]== 0]), len(low_spenders[low_spenders[:,1]==1])"
   ]
  },
  {
   "cell_type": "code",
   "execution_count": 92,
   "id": "cecd12f2-b505-4341-a264-1d43c62fbb5c",
   "metadata": {},
   "outputs": [
    {
     "data": {
      "text/plain": [
       "(42.87755102040816, 43.0, 42.76)"
      ]
     },
     "execution_count": 92,
     "metadata": {},
     "output_type": "execute_result"
    }
   ],
   "source": [
    "# Average age of custmers, males and females in low spenders category \n",
    "np.mean(low_spenders[:,2]), np.mean(low_spenders[low_spenders[:,1]==0][:,2]), np.mean(low_spenders[low_spenders[:,1]==1][:,2])\n"
   ]
  },
  {
   "cell_type": "code",
   "execution_count": 58,
   "id": "4edccc65-811b-4b85-b035-24ec32506414",
   "metadata": {},
   "outputs": [
    {
     "data": {
      "text/plain": [
       "(67.0, 70.79166666666667, 63.36)"
      ]
     },
     "execution_count": 58,
     "metadata": {},
     "output_type": "execute_result"
    }
   ],
   "source": [
    "# low spenders average annual income, low spender male's annual income, low spenders female's annual income\n",
    "np.mean(low_spenders[:,3]), np.mean(low_spenders[low_spenders[:,1]==0][:,3]), np.mean(low_spenders[low_spenders[:,1]==1][:,3])\n"
   ]
  },
  {
   "cell_type": "code",
   "execution_count": 59,
   "id": "1ab450b2-b3dd-403c-a4bf-4ca6dffb06e2",
   "metadata": {},
   "outputs": [
    {
     "data": {
      "text/plain": [
       "(40, 54)"
      ]
     },
     "execution_count": 59,
     "metadata": {},
     "output_type": "execute_result"
    }
   ],
   "source": [
    "# Medium spenders: No. of male and female customers\n",
    "len(medium_spenders[medium_spenders[:,1]== 0]), len(medium_spenders[medium_spenders[:,1]==1])"
   ]
  },
  {
   "cell_type": "code",
   "execution_count": 61,
   "id": "59c6fe44-1d53-4008-967c-db0c0e39d867",
   "metadata": {},
   "outputs": [
    {
     "data": {
      "text/plain": [
       "(42.01063829787234, 43.35, 41.01851851851852)"
      ]
     },
     "execution_count": 61,
     "metadata": {},
     "output_type": "execute_result"
    }
   ],
   "source": [
    "# Average age of custmers, males and females in medium spenders category \n",
    "np.mean(medium_spenders[:,2]), np.mean(medium_spenders[medium_spenders[:,1]==0][:,2]), np.mean(medium_spenders[medium_spenders[:,1]==1][:,2])\n"
   ]
  },
  {
   "cell_type": "code",
   "execution_count": 69,
   "id": "fd1e5664-389e-420c-ae74-76f82963ef3c",
   "metadata": {},
   "outputs": [
    {
     "data": {
      "text/plain": [
       "(53.861702127659576, 52.825, 54.629629629629626)"
      ]
     },
     "execution_count": 69,
     "metadata": {},
     "output_type": "execute_result"
    }
   ],
   "source": [
    "# medium spenders average annual income, medium spender male's annual income, medium spenders female's annual income\n",
    "np.mean(medium_spenders[:,3]), np.mean(medium_spenders[medium_spenders[:,1]==0][:,3]), np.mean(medium_spenders[medium_spenders[:,1]==1][:,3])\n"
   ]
  },
  {
   "cell_type": "code",
   "execution_count": 64,
   "id": "bb001c0f-5de1-4f37-aeab-25d95478f936",
   "metadata": {},
   "outputs": [
    {
     "data": {
      "text/plain": [
       "(24, 33)"
      ]
     },
     "execution_count": 64,
     "metadata": {},
     "output_type": "execute_result"
    }
   ],
   "source": [
    "# High spenders: No. of male and female customers whose spending more\n",
    "len(high_spenders[high_spenders[:,1]== 0]), len(high_spenders[high_spenders[:,1]==1])"
   ]
  },
  {
   "cell_type": "code",
   "execution_count": 65,
   "id": "591378cf-613c-48ee-97a9-de72bd6dbb68",
   "metadata": {},
   "outputs": [
    {
     "data": {
      "text/plain": [
       "(30.17543859649123, 30.708333333333332, 29.78787878787879)"
      ]
     },
     "execution_count": 65,
     "metadata": {},
     "output_type": "execute_result"
    }
   ],
   "source": [
    "# Average age of customers, males and females in high spenders category \n",
    "np.mean(high_spenders[:,2]), np.mean(high_spenders[high_spenders[:,1]==0][:,2]), np.mean(high_spenders[high_spenders[:,1]==1][:,2])\n"
   ]
  },
  {
   "cell_type": "code",
   "execution_count": 67,
   "id": "0d980bf8-9110-42bf-9711-5ab0ed78e27a",
   "metadata": {},
   "outputs": [
    {
     "data": {
      "text/plain": [
       "(66.0701754385965, 69.33333333333333, 63.696969696969695)"
      ]
     },
     "execution_count": 67,
     "metadata": {},
     "output_type": "execute_result"
    }
   ],
   "source": [
    "# high spenders average annual income, high spender male's annual income, high spenders female's annual income\n",
    "np.mean(high_spenders[:,3]), np.mean(high_spenders[high_spenders[:,1]==0][:,3]), np.mean(high_spenders[high_spenders[:,1]==1][:,3])\n"
   ]
  },
  {
   "cell_type": "markdown",
   "id": "5dc7484f-262c-4ca4-887e-a4be74a89406",
   "metadata": {},
   "source": [
    "Average age of low spenders is 43 years, medium spenders is 42 years and low spenders is 30 years.<br>\n",
    "Average annual income of low spenders is 67k, medium spenders is 54k and that of high spenders is 66k.<br>\n",
    "__Younger individuals spend more, Average annual income does not have any effect on spending score.__\n"
   ]
  },
  {
   "cell_type": "markdown",
   "id": "63c3cc31-38ff-45d9-a759-04cf9be2582f",
   "metadata": {},
   "source": [
    "## 5: Find Behavioral Similarities"
   ]
  },
  {
   "cell_type": "code",
   "execution_count": 71,
   "id": "7ce1decb-ca19-44ee-876f-9b05d194af18",
   "metadata": {},
   "outputs": [
    {
     "data": {
      "text/plain": [
       "array([[-1.7234121 , -1.12815215, -1.42456879, -1.73899919, -0.43480148],\n",
       "       [-1.70609137, -1.12815215, -1.28103541, -1.73899919,  1.19570407],\n",
       "       [-1.68877065,  0.88640526, -1.3528021 , -1.70082976, -1.71591298],\n",
       "       [-1.67144992,  0.88640526, -1.13750203, -1.70082976,  1.04041783],\n",
       "       [-1.6541292 ,  0.88640526, -0.56336851, -1.66266033, -0.39597992],\n",
       "       [-1.63680847,  0.88640526, -1.20926872, -1.66266033,  1.00159627],\n",
       "       [-1.61948775,  0.88640526, -0.27630176, -1.62449091, -1.71591298],\n",
       "       [-1.60216702,  0.88640526, -1.13750203, -1.62449091,  1.70038436],\n",
       "       [-1.5848463 , -1.12815215,  1.80493225, -1.58632148, -1.83237767],\n",
       "       [-1.56752558,  0.88640526, -0.6351352 , -1.58632148,  0.84631002],\n",
       "       [-1.55020485, -1.12815215,  2.02023231, -1.58632148, -1.4053405 ],\n",
       "       [-1.53288413,  0.88640526, -0.27630176, -1.58632148,  1.89449216],\n",
       "       [-1.5155634 ,  0.88640526,  1.37433211, -1.54815205, -1.36651894],\n",
       "       [-1.49824268,  0.88640526, -1.06573534, -1.54815205,  1.04041783],\n",
       "       [-1.48092195, -1.12815215, -0.13276838, -1.54815205, -1.44416206],\n",
       "       [-1.46360123, -1.12815215, -1.20926872, -1.54815205,  1.11806095],\n",
       "       [-1.4462805 ,  0.88640526, -0.27630176, -1.50998262, -0.59008772],\n",
       "       [-1.42895978, -1.12815215, -1.3528021 , -1.50998262,  0.61338066],\n",
       "       [-1.41163905, -1.12815215,  0.94373197, -1.43364376, -0.82301709],\n",
       "       [-1.39431833,  0.88640526, -0.27630176, -1.43364376,  1.8556706 ],\n",
       "       [-1.3769976 , -1.12815215, -0.27630176, -1.39547433, -0.59008772],\n",
       "       [-1.35967688, -1.12815215, -0.99396865, -1.39547433,  0.88513158],\n",
       "       [-1.34235616,  0.88640526,  0.51313183, -1.3573049 , -1.75473454],\n",
       "       [-1.32503543, -1.12815215, -0.56336851, -1.3573049 ,  0.88513158],\n",
       "       [-1.30771471,  0.88640526,  1.08726535, -1.24279661, -1.4053405 ],\n",
       "       [-1.29039398, -1.12815215, -0.70690189, -1.24279661,  1.23452563],\n",
       "       [-1.27307326,  0.88640526,  0.44136514, -1.24279661, -0.7065524 ],\n",
       "       [-1.25575253, -1.12815215, -0.27630176, -1.24279661,  0.41927286],\n",
       "       [-1.23843181,  0.88640526,  0.08253169, -1.20462718, -0.74537397],\n",
       "       [-1.22111108,  0.88640526, -1.13750203, -1.20462718,  1.42863343],\n",
       "       [-1.20379036, -1.12815215,  1.51786549, -1.16645776, -1.7935561 ],\n",
       "       [-1.18646963,  0.88640526, -1.28103541, -1.16645776,  0.88513158],\n",
       "       [-1.16914891, -1.12815215,  1.01549866, -1.05194947, -1.7935561 ],\n",
       "       [-1.15182818, -1.12815215, -1.49633548, -1.05194947,  1.62274124],\n",
       "       [-1.13450746,  0.88640526,  0.7284319 , -1.05194947, -1.4053405 ],\n",
       "       [-1.11718674,  0.88640526, -1.28103541, -1.05194947,  1.19570407],\n",
       "       [-1.09986601,  0.88640526,  0.22606507, -1.01378004, -1.28887582],\n",
       "       [-1.08254529,  0.88640526, -0.6351352 , -1.01378004,  0.88513158],\n",
       "       [-1.06522456,  0.88640526, -0.20453507, -0.89927175, -0.93948177],\n",
       "       [-1.04790384,  0.88640526, -1.3528021 , -0.89927175,  0.96277471],\n",
       "       [-1.03058311,  0.88640526,  1.87669894, -0.86110232, -0.59008772],\n",
       "       [-1.01326239, -1.12815215, -1.06573534, -0.86110232,  1.62274124],\n",
       "       [-0.99594166, -1.12815215,  0.65666521, -0.82293289, -0.55126616],\n",
       "       [-0.97862094,  0.88640526, -0.56336851, -0.82293289,  0.41927286],\n",
       "       [-0.96130021,  0.88640526,  0.7284319 , -0.82293289, -0.86183865],\n",
       "       [-0.94397949,  0.88640526, -1.06573534, -0.82293289,  0.5745591 ],\n",
       "       [-0.92665877,  0.88640526,  0.80019859, -0.78476346,  0.18634349],\n",
       "       [-0.90933804,  0.88640526, -0.85043527, -0.78476346, -0.12422899],\n",
       "       [-0.89201732,  0.88640526, -0.70690189, -0.78476346, -0.3183368 ],\n",
       "       [-0.87469659,  0.88640526, -0.56336851, -0.78476346, -0.3183368 ],\n",
       "       [-0.85737587,  0.88640526,  0.7284319 , -0.70842461,  0.06987881],\n",
       "       [-0.84005514, -1.12815215, -0.41983513, -0.70842461,  0.38045129],\n",
       "       [-0.82273442,  0.88640526, -0.56336851, -0.67025518,  0.14752193],\n",
       "       [-0.80541369, -1.12815215,  1.4460988 , -0.67025518,  0.38045129],\n",
       "       [-0.78809297,  0.88640526,  0.80019859, -0.67025518, -0.20187212],\n",
       "       [-0.77077224, -1.12815215,  0.58489852, -0.67025518, -0.35715836],\n",
       "       [-0.75345152,  0.88640526,  0.87196528, -0.63208575, -0.00776431],\n",
       "       [-0.73613079, -1.12815215,  2.16376569, -0.63208575, -0.16305055],\n",
       "       [-0.71881007,  0.88640526, -0.85043527, -0.55574689,  0.03105725],\n",
       "       [-0.70148935, -1.12815215,  1.01549866, -0.55574689, -0.16305055],\n",
       "       [-0.68416862, -1.12815215,  2.23553238, -0.55574689,  0.22516505],\n",
       "       [-0.6668479 , -1.12815215, -1.42456879, -0.55574689,  0.18634349],\n",
       "       [-0.64952717,  0.88640526,  2.02023231, -0.51757746,  0.06987881],\n",
       "       [-0.63220645,  0.88640526,  1.08726535, -0.51757746,  0.34162973],\n",
       "       [-0.61488572, -1.12815215,  1.73316556, -0.47940803,  0.03105725],\n",
       "       [-0.597565  , -1.12815215, -1.49633548, -0.47940803,  0.34162973],\n",
       "       [-0.58024427,  0.88640526,  0.29783176, -0.47940803, -0.00776431],\n",
       "       [-0.56292355,  0.88640526,  2.091999  , -0.47940803, -0.08540743],\n",
       "       [-0.54560282, -1.12815215, -1.42456879, -0.47940803,  0.34162973],\n",
       "       [-0.5282821 ,  0.88640526, -0.49160182, -0.47940803, -0.12422899],\n",
       "       [-0.51096138, -1.12815215,  2.23553238, -0.4412386 ,  0.18634349],\n",
       "       [-0.49364065,  0.88640526,  0.58489852, -0.4412386 , -0.3183368 ],\n",
       "       [-0.47631993,  0.88640526,  1.51786549, -0.40306917, -0.04658587],\n",
       "       [-0.4589992 ,  0.88640526,  1.51786549, -0.40306917,  0.22516505],\n",
       "       [-0.44167848, -1.12815215,  1.4460988 , -0.25039146, -0.12422899],\n",
       "       [-0.42435775, -1.12815215, -0.92220196, -0.25039146,  0.14752193],\n",
       "       [-0.40703703,  0.88640526,  0.44136514, -0.25039146,  0.10870037],\n",
       "       [-0.3897163 , -1.12815215,  0.08253169, -0.25039146, -0.08540743],\n",
       "       [-0.37239558,  0.88640526, -1.13750203, -0.25039146,  0.06987881],\n",
       "       [-0.35507485,  0.88640526,  0.7284319 , -0.25039146, -0.3183368 ],\n",
       "       [-0.33775413, -1.12815215,  1.30256542, -0.25039146,  0.03105725],\n",
       "       [-0.3204334 , -1.12815215, -0.06100169, -0.25039146,  0.18634349],\n",
       "       [-0.30311268, -1.12815215,  2.02023231, -0.25039146, -0.35715836],\n",
       "       [-0.28579196,  0.88640526,  0.51313183, -0.25039146, -0.24069368],\n",
       "       [-0.26847123,  0.88640526, -1.28103541, -0.25039146,  0.26398661],\n",
       "       [-0.25115051, -1.12815215,  0.65666521, -0.25039146, -0.16305055],\n",
       "       [-0.23382978,  0.88640526,  1.15903204, -0.13588317,  0.30280817],\n",
       "       [-0.21650906,  0.88640526, -1.20926872, -0.13588317,  0.18634349],\n",
       "       [-0.19918833,  0.88640526, -0.34806844, -0.09771374,  0.38045129],\n",
       "       [-0.18186761,  0.88640526,  0.80019859, -0.09771374, -0.16305055],\n",
       "       [-0.16454688,  0.88640526,  2.091999  , -0.05954431,  0.18634349],\n",
       "       [-0.14722616, -1.12815215, -1.49633548, -0.05954431, -0.35715836],\n",
       "       [-0.12990543, -1.12815215,  0.65666521, -0.02137488, -0.04658587],\n",
       "       [-0.11258471,  0.88640526,  0.08253169, -0.02137488, -0.39597992],\n",
       "       [-0.09526399,  0.88640526, -0.49160182, -0.02137488, -0.3183368 ],\n",
       "       [-0.07794326, -1.12815215, -1.06573534, -0.02137488,  0.06987881],\n",
       "       [-0.06062254,  0.88640526,  0.58489852, -0.02137488, -0.12422899],\n",
       "       [-0.04330181,  0.88640526, -0.85043527, -0.02137488, -0.00776431],\n",
       "       [-0.02598109, -1.12815215,  0.65666521,  0.01679455, -0.3183368 ],\n",
       "       [-0.00866036, -1.12815215, -1.3528021 ,  0.01679455, -0.04658587],\n",
       "       [ 0.00866036,  0.88640526, -1.13750203,  0.05496398, -0.35715836],\n",
       "       [ 0.02598109,  0.88640526,  0.7284319 ,  0.05496398, -0.08540743],\n",
       "       [ 0.04330181, -1.12815215,  2.02023231,  0.05496398,  0.34162973],\n",
       "       [ 0.06062254, -1.12815215, -0.92220196,  0.05496398,  0.18634349],\n",
       "       [ 0.07794326, -1.12815215,  0.7284319 ,  0.05496398,  0.22516505],\n",
       "       [ 0.09526399,  0.88640526, -1.28103541,  0.05496398, -0.3183368 ],\n",
       "       [ 0.11258471,  0.88640526,  1.94846562,  0.09313341, -0.00776431],\n",
       "       [ 0.12990543, -1.12815215,  1.08726535,  0.09313341, -0.16305055],\n",
       "       [ 0.14722616, -1.12815215,  2.091999  ,  0.09313341, -0.27951524],\n",
       "       [ 0.16454688, -1.12815215,  1.94846562,  0.09313341, -0.08540743],\n",
       "       [ 0.18186761, -1.12815215,  1.87669894,  0.09313341,  0.06987881],\n",
       "       [ 0.19918833,  0.88640526, -1.42456879,  0.09313341,  0.14752193],\n",
       "       [ 0.21650906,  0.88640526, -0.06100169,  0.13130284, -0.3183368 ],\n",
       "       [ 0.23382978, -1.12815215, -1.42456879,  0.13130284, -0.16305055],\n",
       "       [ 0.25115051,  0.88640526, -1.49633548,  0.16947227, -0.08540743],\n",
       "       [ 0.26847123,  0.88640526, -1.42456879,  0.16947227, -0.00776431],\n",
       "       [ 0.28579196,  0.88640526,  1.73316556,  0.16947227, -0.27951524],\n",
       "       [ 0.30311268,  0.88640526,  0.7284319 ,  0.16947227,  0.34162973],\n",
       "       [ 0.3204334 ,  0.88640526,  0.87196528,  0.24581112, -0.27951524],\n",
       "       [ 0.33775413,  0.88640526,  0.80019859,  0.24581112,  0.26398661],\n",
       "       [ 0.35507485, -1.12815215, -0.85043527,  0.24581112,  0.22516505],\n",
       "       [ 0.37239558,  0.88640526, -0.06100169,  0.24581112, -0.39597992],\n",
       "       [ 0.3897163 ,  0.88640526,  0.08253169,  0.32214998,  0.30280817],\n",
       "       [ 0.40703703, -1.12815215,  0.010765  ,  0.32214998,  1.58391968],\n",
       "       [ 0.42435775,  0.88640526, -1.13750203,  0.36031941, -0.82301709],\n",
       "       [ 0.44167848,  0.88640526, -0.56336851,  0.36031941,  1.04041783],\n",
       "       [ 0.4589992 , -1.12815215,  0.29783176,  0.39848884, -0.59008772],\n",
       "       [ 0.47631993, -1.12815215,  0.08253169,  0.39848884,  1.73920592],\n",
       "       [ 0.49364065, -1.12815215,  1.4460988 ,  0.39848884, -1.52180518],\n",
       "       [ 0.51096138, -1.12815215, -0.06100169,  0.39848884,  0.96277471],\n",
       "       [ 0.5282821 , -1.12815215,  0.58489852,  0.39848884, -1.5994483 ],\n",
       "       [ 0.54560282, -1.12815215,  0.010765  ,  0.39848884,  0.96277471],\n",
       "       [ 0.56292355,  0.88640526, -0.99396865,  0.43665827, -0.62890928],\n",
       "       [ 0.58024427,  0.88640526, -0.56336851,  0.43665827,  0.80748846],\n",
       "       [ 0.597565  , -1.12815215, -1.3528021 ,  0.4748277 , -1.75473454],\n",
       "       [ 0.61488572,  0.88640526, -0.70690189,  0.4748277 ,  1.46745499],\n",
       "       [ 0.63220645,  0.88640526,  0.36959845,  0.4748277 , -1.67709142],\n",
       "       [ 0.64952717, -1.12815215, -0.49160182,  0.4748277 ,  0.88513158],\n",
       "       [ 0.6668479 , -1.12815215, -1.42456879,  0.51299713, -1.56062674],\n",
       "       [ 0.68416862,  0.88640526, -0.27630176,  0.51299713,  0.84631002],\n",
       "       [ 0.70148935,  0.88640526,  1.30256542,  0.55116656, -1.75473454],\n",
       "       [ 0.71881007, -1.12815215, -0.49160182,  0.55116656,  1.6615628 ],\n",
       "       [ 0.73613079,  0.88640526, -0.77866858,  0.58933599, -0.39597992],\n",
       "       [ 0.75345152,  0.88640526, -0.49160182,  0.58933599,  1.42863343],\n",
       "       [ 0.77077224, -1.12815215, -0.99396865,  0.62750542, -1.48298362],\n",
       "       [ 0.78809297, -1.12815215, -0.77866858,  0.62750542,  1.81684904],\n",
       "       [ 0.80541369, -1.12815215,  0.65666521,  0.62750542, -0.55126616],\n",
       "       [ 0.82273442,  0.88640526, -0.49160182,  0.62750542,  0.92395314],\n",
       "       [ 0.84005514,  0.88640526, -0.34806844,  0.66567484, -1.09476801],\n",
       "       [ 0.85737587, -1.12815215, -0.34806844,  0.66567484,  1.54509812],\n",
       "       [ 0.87469659, -1.12815215,  0.29783176,  0.66567484, -1.28887582],\n",
       "       [ 0.89201732, -1.12815215,  0.010765  ,  0.66567484,  1.46745499],\n",
       "       [ 0.90933804,  0.88640526,  0.36959845,  0.66567484, -1.17241113],\n",
       "       [ 0.92665877,  0.88640526, -0.06100169,  0.66567484,  1.00159627],\n",
       "       [ 0.94397949,  0.88640526,  0.58489852,  0.66567484, -1.32769738],\n",
       "       [ 0.96130021,  0.88640526, -0.85043527,  0.66567484,  1.50627656],\n",
       "       [ 0.97862094, -1.12815215, -0.13276838,  0.66567484, -1.91002079],\n",
       "       [ 0.99594166,  0.88640526, -0.6351352 ,  0.66567484,  1.07923939],\n",
       "       [ 1.01326239, -1.12815215, -0.34806844,  0.66567484, -1.91002079],\n",
       "       [ 1.03058311,  0.88640526, -0.6351352 ,  0.66567484,  0.88513158],\n",
       "       [ 1.04790384,  0.88640526,  1.23079873,  0.70384427, -0.59008772],\n",
       "       [ 1.06522456,  0.88640526, -0.70690189,  0.70384427,  1.27334719],\n",
       "       [ 1.08254529, -1.12815215, -1.42456879,  0.78018313, -1.75473454],\n",
       "       [ 1.09986601,  0.88640526, -0.56336851,  0.78018313,  1.6615628 ],\n",
       "       [ 1.11718674, -1.12815215,  0.80019859,  0.93286085, -0.93948177],\n",
       "       [ 1.13450746,  0.88640526, -0.20453507,  0.93286085,  0.96277471],\n",
       "       [ 1.15182818, -1.12815215,  0.22606507,  0.97103028, -1.17241113],\n",
       "       [ 1.16914891,  0.88640526, -0.41983513,  0.97103028,  1.73920592],\n",
       "       [ 1.18646963,  0.88640526, -0.20453507,  1.00919971, -0.90066021],\n",
       "       [ 1.20379036, -1.12815215, -0.49160182,  1.00919971,  0.49691598],\n",
       "       [ 1.22111108, -1.12815215,  0.08253169,  1.00919971, -1.44416206],\n",
       "       [ 1.23843181, -1.12815215, -0.77866858,  1.00919971,  0.96277471],\n",
       "       [ 1.25575253, -1.12815215, -0.20453507,  1.00919971, -1.56062674],\n",
       "       [ 1.27307326, -1.12815215, -0.20453507,  1.00919971,  1.62274124],\n",
       "       [ 1.29039398,  0.88640526,  0.94373197,  1.04736914, -1.44416206],\n",
       "       [ 1.30771471,  0.88640526, -0.6351352 ,  1.04736914,  1.38981187],\n",
       "       [ 1.32503543, -1.12815215,  1.37433211,  1.04736914, -1.36651894],\n",
       "       [ 1.34235616, -1.12815215, -0.85043527,  1.04736914,  0.72984534],\n",
       "       [ 1.35967688, -1.12815215,  1.4460988 ,  1.23821628, -1.4053405 ],\n",
       "       [ 1.3769976 , -1.12815215, -0.27630176,  1.23821628,  1.54509812],\n",
       "       [ 1.39431833,  0.88640526, -0.13276838,  1.390894  , -0.7065524 ],\n",
       "       [ 1.41163905,  0.88640526, -0.49160182,  1.390894  ,  1.38981187],\n",
       "       [ 1.42895978, -1.12815215,  0.51313183,  1.42906343, -1.36651894],\n",
       "       [ 1.4462805 ,  0.88640526, -0.70690189,  1.42906343,  1.46745499],\n",
       "       [ 1.46360123,  0.88640526,  0.15429838,  1.46723286, -0.43480148],\n",
       "       [ 1.48092195, -1.12815215, -0.6351352 ,  1.46723286,  1.81684904],\n",
       "       [ 1.49824268,  0.88640526,  1.08726535,  1.54357172, -1.01712489],\n",
       "       [ 1.5155634 , -1.12815215, -0.77866858,  1.54357172,  0.69102378],\n",
       "       [ 1.53288413,  0.88640526,  0.15429838,  1.61991057, -1.28887582],\n",
       "       [ 1.55020485,  0.88640526, -0.20453507,  1.61991057,  1.35099031],\n",
       "       [ 1.56752558,  0.88640526, -0.34806844,  1.61991057, -1.05594645],\n",
       "       [ 1.5848463 ,  0.88640526, -0.49160182,  1.61991057,  0.72984534],\n",
       "       [ 1.60216702, -1.12815215, -0.41983513,  2.00160487, -1.63826986],\n",
       "       [ 1.61948775,  0.88640526, -0.06100169,  2.00160487,  1.58391968],\n",
       "       [ 1.63680847,  0.88640526,  0.58489852,  2.26879087, -1.32769738],\n",
       "       [ 1.6541292 ,  0.88640526, -0.27630176,  2.26879087,  1.11806095],\n",
       "       [ 1.67144992,  0.88640526,  0.44136514,  2.49780745, -0.86183865],\n",
       "       [ 1.68877065, -1.12815215, -0.49160182,  2.49780745,  0.92395314],\n",
       "       [ 1.70609137, -1.12815215, -0.49160182,  2.91767117, -1.25005425],\n",
       "       [ 1.7234121 , -1.12815215, -0.6351352 ,  2.91767117,  1.27334719]])"
      ]
     },
     "execution_count": 71,
     "metadata": {},
     "output_type": "execute_result"
    }
   ],
   "source": [
    "# Calculate the mean and standard deviation for each column\n",
    "mean = np.mean(mall_data, axis=0)\n",
    "std = np.std(mall_data, axis=0)\n",
    "\n",
    "# Normalize the dataset\n",
    "normalized_data = (mall_data - mean) / std\n",
    "normalized_data"
   ]
  },
  {
   "cell_type": "code",
   "execution_count": 87,
   "id": "ef37ab09-35a1-4135-a5a2-19c7cb0474a5",
   "metadata": {},
   "outputs": [
    {
     "data": {
      "text/plain": [
       "(200, 5)"
      ]
     },
     "execution_count": 87,
     "metadata": {},
     "output_type": "execute_result"
    }
   ],
   "source": [
    "normalized_data.shape"
   ]
  },
  {
   "cell_type": "code",
   "execution_count": 89,
   "id": "1aa86f13-855a-4941-8b41-463ea4c112b6",
   "metadata": {},
   "outputs": [
    {
     "data": {
      "text/plain": [
       "(5,)"
      ]
     },
     "execution_count": 89,
     "metadata": {},
     "output_type": "execute_result"
    }
   ],
   "source": [
    "max_spending_customer.shape"
   ]
  },
  {
   "cell_type": "code",
   "execution_count": 83,
   "id": "5587c066-f0c8-4d0b-b6d8-947baccd3be7",
   "metadata": {},
   "outputs": [
    {
     "data": {
      "text/plain": [
       "array([3.295782  , 2.36844829, 3.77243835, 1.2261409 , 2.31283326,\n",
       "       1.2978129 , 3.61164539, 0.88634123, 4.72040627, 1.10844363,\n",
       "       4.49685511, 0.        , 3.65520758, 1.1641758 , 3.90253922,\n",
       "       2.35328948, 2.48726054, 2.62205437, 3.60135964, 0.20980486,\n",
       "       3.20816178, 2.37880632, 3.74550537, 2.29244571, 3.59401189,\n",
       "       2.20368434, 2.73239632, 2.53565077, 2.70740601, 1.09616752,\n",
       "       4.60040932, 1.52465965, 4.44373116, 2.45998567, 3.51320975,\n",
       "       1.39862514, 3.30174386, 1.29544548, 2.95420065, 1.65353972,\n",
       "       3.40393865, 2.35615048, 3.43244403, 1.77444333, 3.08485325,\n",
       "       1.81521334, 2.2553557 , 2.33155943, 2.47694045, 2.46063516,\n",
       "       2.35917738, 2.76081112, 2.11608185, 3.26891659, 2.6358087 ,\n",
       "       3.36006392, 2.54070421, 3.97381862, 2.35091887, 3.42256821,\n",
       "       3.86481659, 3.17912462, 3.24435138, 2.49482084, 3.69279956,\n",
       "       3.17149567, 2.46596615, 3.41978534, 3.1604307 , 2.52112511,\n",
       "       3.95487864, 2.83364072, 3.08273157, 2.92557754, 3.75177013,\n",
       "       3.24670192, 2.59929583, 3.34645291, 2.68371431, 3.01297949,\n",
       "       3.63822725, 3.20582491, 4.20707585, 2.91927591, 2.65546362,\n",
       "       3.54822506, 2.89567859, 2.76130655, 2.50841936, 3.07140581,\n",
       "       3.56791475, 3.85589814, 3.621334  , 3.13708975, 3.07551226,\n",
       "       3.54637443, 3.07140246, 2.9353232 , 3.82964994, 3.7253614 ,\n",
       "       3.2987533 , 3.1707051 , 4.11364462, 3.55337613, 3.62535062,\n",
       "       3.35421913, 3.75450476, 3.96694803, 4.47626379, 4.31623384,\n",
       "       4.21710916, 3.19234489, 3.3096187 , 3.96004446, 3.41673469,\n",
       "       3.35630596, 3.89289884, 3.14238244, 3.5827812 , 3.26701679,\n",
       "       3.75444042, 3.50419992, 3.16241602, 3.41216376, 3.96821483,\n",
       "       2.91550313, 4.29747359, 3.49108719, 5.17131196, 3.61796483,\n",
       "       5.01952245, 3.64259884, 3.92013488, 3.13396603, 5.22697805,\n",
       "       3.03793161, 4.70205801, 3.75963555, 5.1537137 , 3.22818018,\n",
       "       5.0369591 , 3.71457045, 3.92180429, 3.19752945, 5.11748885,\n",
       "       3.82162356, 4.61294579, 3.38205091, 4.43205991, 3.86917284,\n",
       "       5.03883269, 3.9083045 , 4.56716755, 3.45896746, 4.72551713,\n",
       "       3.43114902, 5.47106089, 3.50140627, 5.48564128, 3.57636994,\n",
       "       4.51107689, 3.54489287, 5.57984134, 3.55926689, 5.15924975,\n",
       "       3.78609368, 5.24065244, 3.7263583 , 4.68504454, 4.50379088,\n",
       "       5.44564366, 4.42671816, 5.5240079 , 4.32984614, 5.24807773,\n",
       "       3.92285503, 5.70274123, 4.57687732, 5.85311229, 4.54157935,\n",
       "       4.92121539, 4.22316055, 5.76028695, 4.28202583, 4.89020898,\n",
       "       4.75399333, 5.41486751, 4.98481834, 5.47705277, 4.48173028,\n",
       "       5.34814947, 4.62632936, 6.2658768 , 4.79097832, 6.00275051,\n",
       "       5.06179717, 5.92117143, 5.66620774, 6.6910298 , 5.95503475])"
      ]
     },
     "execution_count": 83,
     "metadata": {},
     "output_type": "execute_result"
    }
   ],
   "source": [
    "spending_scores = normalized_data[:, 4]\n",
    "\n",
    "# Find the customer with the highest Spending Score\n",
    "max_spending_score_idx = np.argmax(spending_scores)\n",
    "max_spending_customer = normalized_data[max_spending_score_idx]\n",
    "\n",
    "# Compute Euclidean distance between each customer and the customer with the highest Spending Score\n",
    "distances = np.linalg.norm(normalized_data - max_spending_customer, axis=1)\n",
    "distances \n"
   ]
  },
  {
   "cell_type": "code",
   "execution_count": 91,
   "id": "d9387055-a782-4fd4-8561-29d320d75cc9",
   "metadata": {},
   "outputs": [
    {
     "data": {
      "text/plain": [
       "(200,)"
      ]
     },
     "execution_count": 91,
     "metadata": {},
     "output_type": "execute_result"
    }
   ],
   "source": [
    "distances.shape"
   ]
  },
  {
   "cell_type": "code",
   "execution_count": null,
   "id": "37028e58-f44f-4b96-bc44-f8bcf3543ea4",
   "metadata": {},
   "outputs": [],
   "source": []
  }
 ],
 "metadata": {
  "kernelspec": {
   "display_name": "Python 3 (ipykernel)",
   "language": "python",
   "name": "python3"
  },
  "language_info": {
   "codemirror_mode": {
    "name": "ipython",
    "version": 3
   },
   "file_extension": ".py",
   "mimetype": "text/x-python",
   "name": "python",
   "nbconvert_exporter": "python",
   "pygments_lexer": "ipython3",
   "version": "3.10.16"
  }
 },
 "nbformat": 4,
 "nbformat_minor": 5
}
